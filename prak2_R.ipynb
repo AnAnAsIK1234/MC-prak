{
  "nbformat": 4,
  "nbformat_minor": 0,
  "metadata": {
    "colab": {
      "provenance": []
    },
    "kernelspec": {
      "name": "ir",
      "display_name": "R"
    },
    "language_info": {
      "name": "R"
    }
  },
  "cells": [
    {
      "cell_type": "code",
      "source": [
        "install.packages(\"googledrive\")\n",
        "library(googledrive)"
      ],
      "metadata": {
        "colab": {
          "base_uri": "https://localhost:8080/"
        },
        "id": "CZCoXdsDbPbU",
        "outputId": "eeba313f-5702-4b8f-8ccb-df195918c98c"
      },
      "execution_count": null,
      "outputs": [
        {
          "output_type": "stream",
          "name": "stderr",
          "text": [
            "Installing package into ‘/usr/local/lib/R/site-library’\n",
            "(as ‘lib’ is unspecified)\n",
            "\n"
          ]
        }
      ]
    },
    {
      "cell_type": "code",
      "source": [
        "drive_auth()"
      ],
      "metadata": {
        "colab": {
          "base_uri": "https://localhost:8080/"
        },
        "id": "3-0rxxCbbS2X",
        "outputId": "04475282-85c3-42ea-ec0b-e336f8d9edef"
      },
      "execution_count": null,
      "outputs": [
        {
          "output_type": "stream",
          "name": "stderr",
          "text": [
            "Please point your browser to the following url: \n",
            "\n",
            "https://accounts.google.com/o/oauth2/v2/auth?client_id=603366585132-frjlouoa3s2ono25d2l9ukvhlsrlnr7k.apps.googleusercontent.com&scope=https%3A%2F%2Fwww.googleapis.com%2Fauth%2Fdrive%20https%3A%2F%2Fwww.googleapis.com%2Fauth%2Fuserinfo.email&redirect_uri=https%3A%2F%2Fwww.tidyverse.org%2Fgoogle-callback%2F&response_type=code&state=2982e9ce377c3607f9f5e2f365cd455f&access_type=offline&prompt=consent\n",
            "\n"
          ]
        },
        {
          "name": "stdout",
          "output_type": "stream",
          "text": [
            "Enter authorization code: eyJjb2RlIjoiNC8wQWVhblMwWU5DdnJnWFVONlhYRm44TjVSN0FkMkpVdHRYS1BRdkpaU2xyX2d2bWwtdU9PcVUtUnN4RXQ5d1hxazBPZVVqZyIsInN0YXRlIjoiMjk4MmU5Y2UzNzdjMzYwN2Y5ZjVlMmYzNjVjZDQ1NWYifQ==\n"
          ]
        }
      ]
    },
    {
      "cell_type": "code",
      "source": [
        "file <- drive_get(\"prak/data/archive.zip\")\n",
        "drive_download(file, path = \"archive.zip\", overwrite = TRUE)"
      ],
      "metadata": {
        "colab": {
          "base_uri": "https://localhost:8080/"
        },
        "id": "y6tFE-RUbfZh",
        "outputId": "b30dd059-c723-462c-fa86-d4c5f23f093d"
      },
      "execution_count": null,
      "outputs": [
        {
          "output_type": "stream",
          "name": "stderr",
          "text": [
            "\u001b[32m✔\u001b[39m The input `path` resolved to exactly 1 file.\n",
            "\n",
            "File downloaded:\n",
            "\n",
            "• \u001b[36marchive.zip\u001b[39m \u001b[90m<id: 1X58B4nowGWc3sj8PMV0kXaZaCf4pmY56>\u001b[39m\n",
            "\n",
            "Saved locally as:\n",
            "\n",
            "• \u001b[34marchive.zip\u001b[39m\n",
            "\n"
          ]
        }
      ]
    },
    {
      "cell_type": "code",
      "source": [
        "unzip(\"archive.zip\", exdir = \"data_folder\")\n",
        "\n",
        "list_of_files <- list.files(\"data_folder\", full.names = TRUE)\n",
        "print(list_of_files)\n",
        "library(readr)\n",
        "file_path <- \"data_folder/train.csv\"\n",
        "df <- read_csv(file_path)\n",
        "head(df, 10)\n"
      ],
      "metadata": {
        "colab": {
          "base_uri": "https://localhost:8080/",
          "height": 657
        },
        "id": "Y9_GIY0ab3Is",
        "outputId": "39b0405c-1da2-46e1-840d-1a88cd06ea13"
      },
      "execution_count": null,
      "outputs": [
        {
          "output_type": "stream",
          "name": "stdout",
          "text": [
            "[1] \"data_folder/sample_submission.csv\" \"data_folder/test.csv\"             \n",
            "[3] \"data_folder/train.csv\"            \n"
          ]
        },
        {
          "output_type": "stream",
          "name": "stderr",
          "text": [
            "\u001b[1mRows: \u001b[22m\u001b[34m29451\u001b[39m \u001b[1mColumns: \u001b[22m\u001b[34m12\u001b[39m\n",
            "\u001b[36m──\u001b[39m \u001b[1mColumn specification\u001b[22m \u001b[36m────────────────────────────────────────────────────────\u001b[39m\n",
            "\u001b[1mDelimiter:\u001b[22m \",\"\n",
            "\u001b[31mchr\u001b[39m (3): POSTED_BY, BHK_OR_RK, ADDRESS\n",
            "\u001b[32mdbl\u001b[39m (9): UNDER_CONSTRUCTION, RERA, BHK_NO., SQUARE_FT, READY_TO_MOVE, RESALE...\n",
            "\n",
            "\u001b[36mℹ\u001b[39m Use `spec()` to retrieve the full column specification for this data.\n",
            "\u001b[36mℹ\u001b[39m Specify the column types or set `show_col_types = FALSE` to quiet this message.\n"
          ]
        },
        {
          "output_type": "display_data",
          "data": {
            "text/html": [
              "<table class=\"dataframe\">\n",
              "<caption>A tibble: 10 × 12</caption>\n",
              "<thead>\n",
              "\t<tr><th scope=col>POSTED_BY</th><th scope=col>UNDER_CONSTRUCTION</th><th scope=col>RERA</th><th scope=col>BHK_NO.</th><th scope=col>BHK_OR_RK</th><th scope=col>SQUARE_FT</th><th scope=col>READY_TO_MOVE</th><th scope=col>RESALE</th><th scope=col>ADDRESS</th><th scope=col>LONGITUDE</th><th scope=col>LATITUDE</th><th scope=col>TARGET(PRICE_IN_LACS)</th></tr>\n",
              "\t<tr><th scope=col>&lt;chr&gt;</th><th scope=col>&lt;dbl&gt;</th><th scope=col>&lt;dbl&gt;</th><th scope=col>&lt;dbl&gt;</th><th scope=col>&lt;chr&gt;</th><th scope=col>&lt;dbl&gt;</th><th scope=col>&lt;dbl&gt;</th><th scope=col>&lt;dbl&gt;</th><th scope=col>&lt;chr&gt;</th><th scope=col>&lt;dbl&gt;</th><th scope=col>&lt;dbl&gt;</th><th scope=col>&lt;dbl&gt;</th></tr>\n",
              "</thead>\n",
              "<tbody>\n",
              "\t<tr><td>Owner </td><td>0</td><td>0</td><td>2</td><td>BHK</td><td>1300.2364</td><td>1</td><td>1</td><td>Ksfc Layout,Bangalore      </td><td>12.96991</td><td>77.59796</td><td>55.0</td></tr>\n",
              "\t<tr><td>Dealer</td><td>0</td><td>0</td><td>2</td><td>BHK</td><td>1275.0000</td><td>1</td><td>1</td><td>Vishweshwara Nagar,Mysore  </td><td>12.27454</td><td>76.64460</td><td>51.0</td></tr>\n",
              "\t<tr><td>Owner </td><td>0</td><td>0</td><td>2</td><td>BHK</td><td> 933.1597</td><td>1</td><td>1</td><td>Jigani,Bangalore           </td><td>12.77803</td><td>77.63219</td><td>43.0</td></tr>\n",
              "\t<tr><td>Owner </td><td>0</td><td>1</td><td>2</td><td>BHK</td><td> 929.9211</td><td>1</td><td>1</td><td>Sector-1 Vaishali,Ghaziabad</td><td>28.64230</td><td>77.34450</td><td>62.5</td></tr>\n",
              "\t<tr><td>Dealer</td><td>1</td><td>0</td><td>2</td><td>BHK</td><td> 999.0092</td><td>0</td><td>1</td><td>New Town,Kolkata           </td><td>22.59220</td><td>88.48491</td><td>60.5</td></tr>\n",
              "\t<tr><td>Owner </td><td>0</td><td>0</td><td>3</td><td>BHK</td><td>1250.0000</td><td>1</td><td>1</td><td>South Chittoor,Kochi       </td><td>10.03328</td><td>76.28257</td><td>42.0</td></tr>\n",
              "\t<tr><td>Dealer</td><td>0</td><td>0</td><td>3</td><td>BHK</td><td>1495.0540</td><td>1</td><td>1</td><td>Sodala,Jaipur              </td><td>26.91635</td><td>75.79560</td><td>66.5</td></tr>\n",
              "\t<tr><td>Owner </td><td>0</td><td>1</td><td>3</td><td>BHK</td><td>1181.0129</td><td>1</td><td>1</td><td>Kharar,Mohali              </td><td>30.74000</td><td>76.65000</td><td>52.0</td></tr>\n",
              "\t<tr><td>Dealer</td><td>0</td><td>1</td><td>2</td><td>BHK</td><td>1040.0000</td><td>1</td><td>1</td><td>Bileshivale,Bangalore      </td><td>13.05420</td><td>77.67400</td><td>41.6</td></tr>\n",
              "\t<tr><td>Owner </td><td>0</td><td>1</td><td>2</td><td>BHK</td><td> 879.1209</td><td>1</td><td>1</td><td>Chromepet,Chennai          </td><td>12.95161</td><td>80.14097</td><td>36.0</td></tr>\n",
              "</tbody>\n",
              "</table>\n"
            ],
            "text/markdown": "\nA tibble: 10 × 12\n\n| POSTED_BY &lt;chr&gt; | UNDER_CONSTRUCTION &lt;dbl&gt; | RERA &lt;dbl&gt; | BHK_NO. &lt;dbl&gt; | BHK_OR_RK &lt;chr&gt; | SQUARE_FT &lt;dbl&gt; | READY_TO_MOVE &lt;dbl&gt; | RESALE &lt;dbl&gt; | ADDRESS &lt;chr&gt; | LONGITUDE &lt;dbl&gt; | LATITUDE &lt;dbl&gt; | TARGET(PRICE_IN_LACS) &lt;dbl&gt; |\n|---|---|---|---|---|---|---|---|---|---|---|---|\n| Owner  | 0 | 0 | 2 | BHK | 1300.2364 | 1 | 1 | Ksfc Layout,Bangalore       | 12.96991 | 77.59796 | 55.0 |\n| Dealer | 0 | 0 | 2 | BHK | 1275.0000 | 1 | 1 | Vishweshwara Nagar,Mysore   | 12.27454 | 76.64460 | 51.0 |\n| Owner  | 0 | 0 | 2 | BHK |  933.1597 | 1 | 1 | Jigani,Bangalore            | 12.77803 | 77.63219 | 43.0 |\n| Owner  | 0 | 1 | 2 | BHK |  929.9211 | 1 | 1 | Sector-1 Vaishali,Ghaziabad | 28.64230 | 77.34450 | 62.5 |\n| Dealer | 1 | 0 | 2 | BHK |  999.0092 | 0 | 1 | New Town,Kolkata            | 22.59220 | 88.48491 | 60.5 |\n| Owner  | 0 | 0 | 3 | BHK | 1250.0000 | 1 | 1 | South Chittoor,Kochi        | 10.03328 | 76.28257 | 42.0 |\n| Dealer | 0 | 0 | 3 | BHK | 1495.0540 | 1 | 1 | Sodala,Jaipur               | 26.91635 | 75.79560 | 66.5 |\n| Owner  | 0 | 1 | 3 | BHK | 1181.0129 | 1 | 1 | Kharar,Mohali               | 30.74000 | 76.65000 | 52.0 |\n| Dealer | 0 | 1 | 2 | BHK | 1040.0000 | 1 | 1 | Bileshivale,Bangalore       | 13.05420 | 77.67400 | 41.6 |\n| Owner  | 0 | 1 | 2 | BHK |  879.1209 | 1 | 1 | Chromepet,Chennai           | 12.95161 | 80.14097 | 36.0 |\n\n",
            "text/latex": "A tibble: 10 × 12\n\\begin{tabular}{llllllllllll}\n POSTED\\_BY & UNDER\\_CONSTRUCTION & RERA & BHK\\_NO. & BHK\\_OR\\_RK & SQUARE\\_FT & READY\\_TO\\_MOVE & RESALE & ADDRESS & LONGITUDE & LATITUDE & TARGET(PRICE\\_IN\\_LACS)\\\\\n <chr> & <dbl> & <dbl> & <dbl> & <chr> & <dbl> & <dbl> & <dbl> & <chr> & <dbl> & <dbl> & <dbl>\\\\\n\\hline\n\t Owner  & 0 & 0 & 2 & BHK & 1300.2364 & 1 & 1 & Ksfc Layout,Bangalore       & 12.96991 & 77.59796 & 55.0\\\\\n\t Dealer & 0 & 0 & 2 & BHK & 1275.0000 & 1 & 1 & Vishweshwara Nagar,Mysore   & 12.27454 & 76.64460 & 51.0\\\\\n\t Owner  & 0 & 0 & 2 & BHK &  933.1597 & 1 & 1 & Jigani,Bangalore            & 12.77803 & 77.63219 & 43.0\\\\\n\t Owner  & 0 & 1 & 2 & BHK &  929.9211 & 1 & 1 & Sector-1 Vaishali,Ghaziabad & 28.64230 & 77.34450 & 62.5\\\\\n\t Dealer & 1 & 0 & 2 & BHK &  999.0092 & 0 & 1 & New Town,Kolkata            & 22.59220 & 88.48491 & 60.5\\\\\n\t Owner  & 0 & 0 & 3 & BHK & 1250.0000 & 1 & 1 & South Chittoor,Kochi        & 10.03328 & 76.28257 & 42.0\\\\\n\t Dealer & 0 & 0 & 3 & BHK & 1495.0540 & 1 & 1 & Sodala,Jaipur               & 26.91635 & 75.79560 & 66.5\\\\\n\t Owner  & 0 & 1 & 3 & BHK & 1181.0129 & 1 & 1 & Kharar,Mohali               & 30.74000 & 76.65000 & 52.0\\\\\n\t Dealer & 0 & 1 & 2 & BHK & 1040.0000 & 1 & 1 & Bileshivale,Bangalore       & 13.05420 & 77.67400 & 41.6\\\\\n\t Owner  & 0 & 1 & 2 & BHK &  879.1209 & 1 & 1 & Chromepet,Chennai           & 12.95161 & 80.14097 & 36.0\\\\\n\\end{tabular}\n",
            "text/plain": [
              "   POSTED_BY UNDER_CONSTRUCTION RERA BHK_NO. BHK_OR_RK SQUARE_FT READY_TO_MOVE\n",
              "1  Owner     0                  0    2       BHK       1300.2364 1            \n",
              "2  Dealer    0                  0    2       BHK       1275.0000 1            \n",
              "3  Owner     0                  0    2       BHK        933.1597 1            \n",
              "4  Owner     0                  1    2       BHK        929.9211 1            \n",
              "5  Dealer    1                  0    2       BHK        999.0092 0            \n",
              "6  Owner     0                  0    3       BHK       1250.0000 1            \n",
              "7  Dealer    0                  0    3       BHK       1495.0540 1            \n",
              "8  Owner     0                  1    3       BHK       1181.0129 1            \n",
              "9  Dealer    0                  1    2       BHK       1040.0000 1            \n",
              "10 Owner     0                  1    2       BHK        879.1209 1            \n",
              "   RESALE ADDRESS                     LONGITUDE LATITUDE TARGET(PRICE_IN_LACS)\n",
              "1  1      Ksfc Layout,Bangalore       12.96991  77.59796 55.0                 \n",
              "2  1      Vishweshwara Nagar,Mysore   12.27454  76.64460 51.0                 \n",
              "3  1      Jigani,Bangalore            12.77803  77.63219 43.0                 \n",
              "4  1      Sector-1 Vaishali,Ghaziabad 28.64230  77.34450 62.5                 \n",
              "5  1      New Town,Kolkata            22.59220  88.48491 60.5                 \n",
              "6  1      South Chittoor,Kochi        10.03328  76.28257 42.0                 \n",
              "7  1      Sodala,Jaipur               26.91635  75.79560 66.5                 \n",
              "8  1      Kharar,Mohali               30.74000  76.65000 52.0                 \n",
              "9  1      Bileshivale,Bangalore       13.05420  77.67400 41.6                 \n",
              "10 1      Chromepet,Chennai           12.95161  80.14097 36.0                 "
            ]
          },
          "metadata": {}
        }
      ]
    },
    {
      "cell_type": "markdown",
      "source": [
        "#1. Продемонстрировать применение для проверки различных гипотез и различных доверительных уровней (0.9, 0.95, 0.99) следующих критериев:"
      ],
      "metadata": {
        "id": "VfuCzjMJgXEQ"
      }
    },
    {
      "cell_type": "markdown",
      "source": [
        "##a. Стьюдента, включая односторонние варианты, когда проверяемая нулевая гипотеза заключается в том, что одно из сравниваемых средних значений больше (или меньше) другого. Реализовать оценку мощности критериев при заданном объеме выборки или определения объема выборки для достижения заданной мощности;"
      ],
      "metadata": {
        "id": "slyp8vktgYgz"
      }
    },
    {
      "cell_type": "code",
      "source": [
        "set.seed(123)\n",
        "n <- 30\n",
        "mean1 <- 50\n",
        "mean2 <- 52\n",
        "sd1 <- 10\n",
        "sd2 <- 10\n",
        "\n",
        "sample1 <- rnorm(n, mean = mean1, sd = sd1)\n",
        "sample2 <- rnorm(n, mean = mean2, sd = sd2)\n",
        "\n",
        "alpha_values <- c(0.1, 0.05, 0.01)\n",
        "\n",
        "evaluate_hypothesis <- function(p_value, alpha) {\n",
        "  if (p_value < alpha) {\n",
        "    return(\"Отвергаем нулевую гипотезу\")\n",
        "  } else {\n",
        "    return(\"Принимаем нулевую гипотезу\")\n",
        "  }\n",
        "}\n",
        "\n",
        "for (alpha in alpha_values) {\n",
        "  cat(\"\\nРезультаты t-теста при уровне значимости alpha =\", alpha, \"\\n\")\n",
        "\n",
        "  t_test_two_sided <- t.test(sample1, sample2, conf.level = 1 - alpha)\n",
        "  cat(\"Двусторонний t-тест:\\n\")\n",
        "  print(t_test_two_sided)\n",
        "  cat(\"Решение: \", evaluate_hypothesis(t_test_two_sided$p.value, alpha), \"\\n\\n\")\n",
        "\n",
        "  t_test_one_sided_greater <- t.test(sample1, sample2, alternative = \"greater\", conf.level = 1 - alpha)\n",
        "  cat(\"Односторонний t-тест (среднее первого больше второго):\\n\")\n",
        "  print(t_test_one_sided_greater)\n",
        "  cat(\"Решение: \", evaluate_hypothesis(t_test_one_sided_greater$p.value, alpha), \"\\n\\n\")\n",
        "\n",
        "  t_test_one_sided_less <- t.test(sample1, sample2, alternative = \"less\", conf.level = 1 - alpha)\n",
        "  cat(\"Односторонний t-тест (среднее первого меньше второго):\\n\")\n",
        "  print(t_test_one_sided_less)\n",
        "  cat(\"Решение: \", evaluate_hypothesis(t_test_one_sided_less$p.value, alpha), \"\\n\\n\")\n",
        "}\n"
      ],
      "metadata": {
        "colab": {
          "base_uri": "https://localhost:8080/"
        },
        "id": "BtFWwBdoeFod",
        "outputId": "c6cce56e-1aa4-4650-8fbf-d7920a4d68b4"
      },
      "execution_count": null,
      "outputs": [
        {
          "output_type": "stream",
          "name": "stdout",
          "text": [
            "\n",
            "Результаты t-теста при уровне значимости alpha = 0.1 \n",
            "Двусторонний t-тест:\n",
            "\n",
            "\tWelch Two Sample t-test\n",
            "\n",
            "data:  sample1 and sample2\n",
            "t = -1.8087, df = 56.559, p-value = 0.07581\n",
            "alternative hypothesis: true difference in means is not equal to 0\n",
            "90 percent confidence interval:\n",
            " -8.1878821 -0.3209598\n",
            "sample estimates:\n",
            "mean of x mean of y \n",
            " 49.52896  53.78338 \n",
            "\n",
            "Решение:  Отвергаем нулевую гипотезу \n",
            "\n",
            "Односторонний t-тест (среднее первого больше второго):\n",
            "\n",
            "\tWelch Two Sample t-test\n",
            "\n",
            "data:  sample1 and sample2\n",
            "t = -1.8087, df = 56.559, p-value = 0.9621\n",
            "alternative hypothesis: true difference in means is greater than 0\n",
            "90 percent confidence interval:\n",
            " -7.304524       Inf\n",
            "sample estimates:\n",
            "mean of x mean of y \n",
            " 49.52896  53.78338 \n",
            "\n",
            "Решение:  Принимаем нулевую гипотезу \n",
            "\n",
            "Односторонний t-тест (среднее первого меньше второго):\n",
            "\n",
            "\tWelch Two Sample t-test\n",
            "\n",
            "data:  sample1 and sample2\n",
            "t = -1.8087, df = 56.559, p-value = 0.03791\n",
            "alternative hypothesis: true difference in means is less than 0\n",
            "90 percent confidence interval:\n",
            "      -Inf -1.204318\n",
            "sample estimates:\n",
            "mean of x mean of y \n",
            " 49.52896  53.78338 \n",
            "\n",
            "Решение:  Отвергаем нулевую гипотезу \n",
            "\n",
            "\n",
            "Результаты t-теста при уровне значимости alpha = 0.05 \n",
            "Двусторонний t-тест:\n",
            "\n",
            "\tWelch Two Sample t-test\n",
            "\n",
            "data:  sample1 and sample2\n",
            "t = -1.8087, df = 56.559, p-value = 0.07581\n",
            "alternative hypothesis: true difference in means is not equal to 0\n",
            "95 percent confidence interval:\n",
            " -8.9654261  0.4565843\n",
            "sample estimates:\n",
            "mean of x mean of y \n",
            " 49.52896  53.78338 \n",
            "\n",
            "Решение:  Принимаем нулевую гипотезу \n",
            "\n",
            "Односторонний t-тест (среднее первого больше второго):\n",
            "\n",
            "\tWelch Two Sample t-test\n",
            "\n",
            "data:  sample1 and sample2\n",
            "t = -1.8087, df = 56.559, p-value = 0.9621\n",
            "alternative hypothesis: true difference in means is greater than 0\n",
            "95 percent confidence interval:\n",
            " -8.187882       Inf\n",
            "sample estimates:\n",
            "mean of x mean of y \n",
            " 49.52896  53.78338 \n",
            "\n",
            "Решение:  Принимаем нулевую гипотезу \n",
            "\n",
            "Односторонний t-тест (среднее первого меньше второго):\n",
            "\n",
            "\tWelch Two Sample t-test\n",
            "\n",
            "data:  sample1 and sample2\n",
            "t = -1.8087, df = 56.559, p-value = 0.03791\n",
            "alternative hypothesis: true difference in means is less than 0\n",
            "95 percent confidence interval:\n",
            "       -Inf -0.3209598\n",
            "sample estimates:\n",
            "mean of x mean of y \n",
            " 49.52896  53.78338 \n",
            "\n",
            "Решение:  Отвергаем нулевую гипотезу \n",
            "\n",
            "\n",
            "Результаты t-теста при уровне значимости alpha = 0.01 \n",
            "Двусторонний t-тест:\n",
            "\n",
            "\tWelch Two Sample t-test\n",
            "\n",
            "data:  sample1 and sample2\n",
            "t = -1.8087, df = 56.559, p-value = 0.07581\n",
            "alternative hypothesis: true difference in means is not equal to 0\n",
            "99 percent confidence interval:\n",
            " -10.524429   2.015587\n",
            "sample estimates:\n",
            "mean of x mean of y \n",
            " 49.52896  53.78338 \n",
            "\n",
            "Решение:  Принимаем нулевую гипотезу \n",
            "\n",
            "Односторонний t-тест (среднее первого больше второго):\n",
            "\n",
            "\tWelch Two Sample t-test\n",
            "\n",
            "data:  sample1 and sample2\n",
            "t = -1.8087, df = 56.559, p-value = 0.9621\n",
            "alternative hypothesis: true difference in means is greater than 0\n",
            "99 percent confidence interval:\n",
            " -9.885849       Inf\n",
            "sample estimates:\n",
            "mean of x mean of y \n",
            " 49.52896  53.78338 \n",
            "\n",
            "Решение:  Принимаем нулевую гипотезу \n",
            "\n",
            "Односторонний t-тест (среднее первого меньше второго):\n",
            "\n",
            "\tWelch Two Sample t-test\n",
            "\n",
            "data:  sample1 and sample2\n",
            "t = -1.8087, df = 56.559, p-value = 0.03791\n",
            "alternative hypothesis: true difference in means is less than 0\n",
            "99 percent confidence interval:\n",
            "     -Inf 1.377007\n",
            "sample estimates:\n",
            "mean of x mean of y \n",
            " 49.52896  53.78338 \n",
            "\n",
            "Решение:  Принимаем нулевую гипотезу \n",
            "\n"
          ]
        }
      ]
    },
    {
      "cell_type": "markdown",
      "source": [
        "##Мощность"
      ],
      "metadata": {
        "id": "s94qeaVWlfU6"
      }
    },
    {
      "cell_type": "code",
      "source": [
        "delta <- mean2 - mean1\n",
        "for (alpha in alpha_values) {\n",
        "  cat(\"\\nРезультаты для уровня значимости alpha =\", alpha, \"\\n\")\n",
        "\n",
        "  # 1. Оценка мощности для заданного объема выборки\n",
        "  power_result <- power.t.test(n = n, delta = delta, sd = sd1, sig.level = alpha, type = \"two.sample\", alternative = \"two.sided\")\n",
        "  cat(\"Мощность для заданного размера выборки (n = \", n, \"): \", power_result$power, \"\\n\")\n",
        "\n",
        "  # 2. Определение объема выборки для заданной мощности\n",
        "  desired_power <- 0.8\n",
        "  sample_size_result <- power.t.test(power = desired_power, delta = delta, sd = sd1, sig.level = alpha, type = \"two.sample\", alternative = \"two.sided\")\n",
        "  cat(\"Размер выборки для достижения мощности \", desired_power, \": \", ceiling(sample_size_result$n), \"\\n\")\n",
        "}"
      ],
      "metadata": {
        "colab": {
          "base_uri": "https://localhost:8080/"
        },
        "id": "cQEz9d6ElOUR",
        "outputId": "4bc56adf-b914-40b1-faca-e423857faf4f"
      },
      "execution_count": null,
      "outputs": [
        {
          "output_type": "stream",
          "name": "stdout",
          "text": [
            "\n",
            "Результаты для уровня значимости alpha = 0.1 \n",
            "Мощность для заданного размера выборки (n =  30 ):  0.1896266 \n",
            "Размер выборки для достижения мощности  0.8 :  310 \n",
            "\n",
            "Результаты для уровня значимости alpha = 0.05 \n",
            "Мощность для заданного размера выборки (n =  30 ):  0.1154342 \n",
            "Размер выборки для достижения мощности  0.8 :  394 \n",
            "\n",
            "Результаты для уровня значимости alpha = 0.01 \n",
            "Мощность для заданного размера выборки (n =  30 ):  0.03414603 \n",
            "Размер выборки для достижения мощности  0.8 :  586 \n"
          ]
        }
      ]
    },
    {
      "cell_type": "markdown",
      "source": [
        "##Уилкоксона-Манна-Уитни (ранговые)"
      ],
      "metadata": {
        "id": "vqp88dvQlmV4"
      }
    },
    {
      "cell_type": "code",
      "source": [
        "for (conf_level in alpha_values) {\n",
        "  cat(\"\\nРезультаты Уилкоксона-Манна-Уитни при уровне доверия =\", conf_level, \"\\n\")\n",
        "\n",
        "  wilcox_test <- wilcox.test(sample1, sample2, conf.int = TRUE, conf.level = conf_level)\n",
        "  cat(\"Результаты Уилкоксона-Манна-Уитни (двусторонний тест):\\n\")\n",
        "  print(wilcox_test)\n",
        "\n",
        "  if (wilcox_test$p.value < (1 - conf_level)) {\n",
        "    cat(\"Отвергаем нулевую гипотезу: медианы выборок различаются.\\n\")\n",
        "  } else {\n",
        "    cat(\"Не отвергаем нулевую гипотезу: нет доказательств различия медиан.\\n\")\n",
        "  }\n",
        "}\n"
      ],
      "metadata": {
        "colab": {
          "base_uri": "https://localhost:8080/"
        },
        "id": "PPJZuQvGlqOm",
        "outputId": "0d36e978-2413-41c9-97b8-bca1c64e5f26"
      },
      "execution_count": null,
      "outputs": [
        {
          "output_type": "stream",
          "name": "stdout",
          "text": [
            "\n",
            "Результаты Уилкоксона-Манна-Уитни при уровне доверия = 0.1 \n",
            "Результаты Уилкоксона-Манна-Уитни (двусторонний тест):\n",
            "\n",
            "\tWilcoxon rank sum exact test\n",
            "\n",
            "data:  sample1 and sample2\n",
            "W = 329, p-value = 0.0747\n",
            "alternative hypothesis: true location shift is not equal to 0\n",
            "10 percent confidence interval:\n",
            " -4.971765 -4.201975\n",
            "sample estimates:\n",
            "difference in location \n",
            "             -4.615028 \n",
            "\n",
            "Отвергаем нулевую гипотезу: медианы выборок различаются.\n",
            "\n",
            "Результаты Уилкоксона-Манна-Уитни при уровне доверия = 0.05 \n",
            "Результаты Уилкоксона-Манна-Уитни (двусторонний тест):\n",
            "\n",
            "\tWilcoxon rank sum exact test\n",
            "\n",
            "data:  sample1 and sample2\n",
            "W = 329, p-value = 0.0747\n",
            "alternative hypothesis: true location shift is not equal to 0\n",
            "5 percent confidence interval:\n",
            " -4.730911 -4.445683\n",
            "sample estimates:\n",
            "difference in location \n",
            "             -4.615028 \n",
            "\n",
            "Отвергаем нулевую гипотезу: медианы выборок различаются.\n",
            "\n",
            "Результаты Уилкоксона-Манна-Уитни при уровне доверия = 0.01 \n",
            "Результаты Уилкоксона-Манна-Уитни (двусторонний тест):\n",
            "\n",
            "\tWilcoxon rank sum exact test\n",
            "\n",
            "data:  sample1 and sample2\n",
            "W = 329, p-value = 0.0747\n",
            "alternative hypothesis: true location shift is not equal to 0\n",
            "1 percent confidence interval:\n",
            " -4.626557 -4.545130\n",
            "sample estimates:\n",
            "difference in location \n",
            "             -4.615028 \n",
            "\n",
            "Отвергаем нулевую гипотезу: медианы выборок различаются.\n"
          ]
        }
      ]
    },
    {
      "cell_type": "markdown",
      "source": [
        "##Фишера, Левене, Бартлетта, Флигнера-Килина (проверка гипотез об однородности дисперсий)."
      ],
      "metadata": {
        "id": "3n5_FfgEoglq"
      }
    },
    {
      "cell_type": "code",
      "source": [
        "set.seed(123)\n",
        "n <- 100\n",
        "sample1 <- rnorm(n, mean = 50, sd = 10)\n",
        "sample2 <- rnorm(n, mean = 52, sd = 12)\n",
        "confidence_levels <- c(0.9, 0.95, 0.99)\n",
        "\n",
        "check_hypothesis <- function(p_value, alpha) {\n",
        "  if (p_value < alpha) {\n",
        "    return(\"Отвергаем нулевую гипотезу: дисперсии различны.\")\n",
        "  } else {\n",
        "    return(\"Не отвергаем нулевую гипотезу: нет доказательств различия дисперсий.\")\n",
        "  }\n",
        "}\n",
        "\n",
        "for (conf_level in confidence_levels) {\n",
        "  alpha <- 1 - conf_level\n",
        "  cat(\"\\nУровень доверия:\", conf_level, \"(α =\", alpha, \")\\n\")\n",
        "\n",
        "  # Тест Фишера\n",
        "  fisher_result <- var.test(sample1, sample2)\n",
        "  cat(\"Тест Фишера:\\n\")\n",
        "  print(fisher_result)\n",
        "  cat(check_hypothesis(fisher_result$p.value, alpha), \"\\n\")\n",
        "\n",
        "  # Тест Левене\n",
        "  levene_result <- car::leveneTest(c(sample1, sample2), group = factor(rep(1:2, each = n)))\n",
        "  cat(\"Тест Левене:\\n\")\n",
        "  print(levene_result)\n",
        "  cat(check_hypothesis(levene_result$`Pr(>F)`[1], alpha), \"\\n\")\n",
        "\n",
        "  # Тест Бартлетта\n",
        "  bartlett_result <- bartlett.test(list(sample1, sample2))\n",
        "  cat(\"Тест Бартлетта:\\n\")\n",
        "  print(bartlett_result)\n",
        "  cat(check_hypothesis(bartlett_result$p.value, alpha), \"\\n\")\n",
        "\n",
        "  # Тест Флигнера-Килина\n",
        "  fligner_result <- fligner.test(list(sample1, sample2))\n",
        "  cat(\"Тест Флигнера-Килина:\\n\")\n",
        "  print(fligner_result)\n",
        "\n",
        "  if (!is.na(fligner_result$p.value)) {\n",
        "    cat(check_hypothesis(fligner_result$p.value, alpha), \"\\n\")\n",
        "  } else {\n",
        "    cat(\"Результаты теста Флигнера-Килина недоступны (NA).\\n\")\n",
        "  }\n",
        "}\n"
      ],
      "metadata": {
        "colab": {
          "base_uri": "https://localhost:8080/"
        },
        "id": "QMc8z2uOogHx",
        "outputId": "ffd8231e-7cf6-4267-d902-70b8ec957420"
      },
      "execution_count": null,
      "outputs": [
        {
          "output_type": "stream",
          "name": "stdout",
          "text": [
            "\n",
            "Уровень доверия: 0.9 (α = 0.1 )\n",
            "Тест Фишера:\n",
            "\n",
            "\tF test to compare two variances\n",
            "\n",
            "data:  sample1 and sample2\n",
            "F = 0.61882, num df = 99, denom df = 99, p-value = 0.01777\n",
            "alternative hypothesis: true ratio of variances is not equal to 1\n",
            "95 percent confidence interval:\n",
            " 0.4163666 0.9197083\n",
            "sample estimates:\n",
            "ratio of variances \n",
            "          0.618818 \n",
            "\n",
            "Отвергаем нулевую гипотезу: дисперсии различны. \n",
            "Тест Левене:\n",
            "Levene's Test for Homogeneity of Variance (center = median)\n",
            "       Df F value  Pr(>F)  \n",
            "group   1  3.4293 0.06554 .\n",
            "      198                  \n",
            "---\n",
            "Signif. codes:  0 ‘***’ 0.001 ‘**’ 0.01 ‘*’ 0.05 ‘.’ 0.1 ‘ ’ 1\n",
            "Отвергаем нулевую гипотезу: дисперсии различны. \n",
            "Тест Бартлетта:\n",
            "\n",
            "\tBartlett test of homogeneity of variances\n",
            "\n",
            "data:  list(sample1, sample2)\n",
            "Bartlett's K-squared = 5.6188, df = 1, p-value = 0.01777\n",
            "\n",
            "Отвергаем нулевую гипотезу: дисперсии различны. \n",
            "Тест Флигнера-Килина:\n",
            "\n",
            "\tFligner-Killeen test of homogeneity of variances\n",
            "\n",
            "data:  list(sample1, sample2)\n",
            "Fligner-Killeen:med chi-squared = 2.9819, df = 1, p-value = 0.0842\n",
            "\n",
            "Отвергаем нулевую гипотезу: дисперсии различны. \n",
            "\n",
            "Уровень доверия: 0.95 (α = 0.05 )\n",
            "Тест Фишера:\n",
            "\n",
            "\tF test to compare two variances\n",
            "\n",
            "data:  sample1 and sample2\n",
            "F = 0.61882, num df = 99, denom df = 99, p-value = 0.01777\n",
            "alternative hypothesis: true ratio of variances is not equal to 1\n",
            "95 percent confidence interval:\n",
            " 0.4163666 0.9197083\n",
            "sample estimates:\n",
            "ratio of variances \n",
            "          0.618818 \n",
            "\n",
            "Отвергаем нулевую гипотезу: дисперсии различны. \n",
            "Тест Левене:\n",
            "Levene's Test for Homogeneity of Variance (center = median)\n",
            "       Df F value  Pr(>F)  \n",
            "group   1  3.4293 0.06554 .\n",
            "      198                  \n",
            "---\n",
            "Signif. codes:  0 ‘***’ 0.001 ‘**’ 0.01 ‘*’ 0.05 ‘.’ 0.1 ‘ ’ 1\n",
            "Не отвергаем нулевую гипотезу: нет доказательств различия дисперсий. \n",
            "Тест Бартлетта:\n",
            "\n",
            "\tBartlett test of homogeneity of variances\n",
            "\n",
            "data:  list(sample1, sample2)\n",
            "Bartlett's K-squared = 5.6188, df = 1, p-value = 0.01777\n",
            "\n",
            "Отвергаем нулевую гипотезу: дисперсии различны. \n",
            "Тест Флигнера-Килина:\n",
            "\n",
            "\tFligner-Killeen test of homogeneity of variances\n",
            "\n",
            "data:  list(sample1, sample2)\n",
            "Fligner-Killeen:med chi-squared = 2.9819, df = 1, p-value = 0.0842\n",
            "\n",
            "Не отвергаем нулевую гипотезу: нет доказательств различия дисперсий. \n",
            "\n",
            "Уровень доверия: 0.99 (α = 0.01 )\n",
            "Тест Фишера:\n",
            "\n",
            "\tF test to compare two variances\n",
            "\n",
            "data:  sample1 and sample2\n",
            "F = 0.61882, num df = 99, denom df = 99, p-value = 0.01777\n",
            "alternative hypothesis: true ratio of variances is not equal to 1\n",
            "95 percent confidence interval:\n",
            " 0.4163666 0.9197083\n",
            "sample estimates:\n",
            "ratio of variances \n",
            "          0.618818 \n",
            "\n",
            "Не отвергаем нулевую гипотезу: нет доказательств различия дисперсий. \n",
            "Тест Левене:\n",
            "Levene's Test for Homogeneity of Variance (center = median)\n",
            "       Df F value  Pr(>F)  \n",
            "group   1  3.4293 0.06554 .\n",
            "      198                  \n",
            "---\n",
            "Signif. codes:  0 ‘***’ 0.001 ‘**’ 0.01 ‘*’ 0.05 ‘.’ 0.1 ‘ ’ 1\n",
            "Не отвергаем нулевую гипотезу: нет доказательств различия дисперсий. \n",
            "Тест Бартлетта:\n",
            "\n",
            "\tBartlett test of homogeneity of variances\n",
            "\n",
            "data:  list(sample1, sample2)\n",
            "Bartlett's K-squared = 5.6188, df = 1, p-value = 0.01777\n",
            "\n",
            "Не отвергаем нулевую гипотезу: нет доказательств различия дисперсий. \n",
            "Тест Флигнера-Килина:\n",
            "\n",
            "\tFligner-Killeen test of homogeneity of variances\n",
            "\n",
            "data:  list(sample1, sample2)\n",
            "Fligner-Killeen:med chi-squared = 2.9819, df = 1, p-value = 0.0842\n",
            "\n",
            "Не отвергаем нулевую гипотезу: нет доказательств различия дисперсий. \n"
          ]
        }
      ]
    },
    {
      "cell_type": "markdown",
      "source": [
        "#2. Исследовать корреляционные взаимосвязи в данных с помощью коэффициентов корреляции Пирсона, Спирмена и Кендалла."
      ],
      "metadata": {
        "id": "1TIEsblUv_-0"
      }
    },
    {
      "cell_type": "code",
      "source": [
        "if (\"SQUARE_FT\" %in% names(df) && \"TARGET(PRICE_IN_LACS)\" %in% names(df)) {\n",
        "  x <- df$SQUARE_FT\n",
        "  y <- df$`TARGET(PRICE_IN_LACS)`\n",
        "\n",
        "  correlation_analysis(x, y)\n",
        "} else {\n",
        "  cat(\"Ошибка: Один или оба столбца (SQUARE_FT, TARGET(PRICE_IN_LACS)) отсутствуют в данных.\\n\")\n",
        "}\n",
        "\n",
        "correlation_analysis <- function(x, y) {\n",
        "  valid_indices <- complete.cases(x, y)\n",
        "  x <- x[valid_indices]\n",
        "  y <- y[valid_indices]\n",
        "\n",
        "  # Корреляция Пирсона\n",
        "  pearson_cor <- cor.test(x, y, method = \"pearson\")\n",
        "  cat(\"\\nКоэффициент корреляции Пирсона:\\n\")\n",
        "  print(pearson_cor)\n",
        "\n",
        "  # Корреляция Спирмена\n",
        "  spearman_cor <- cor.test(x, y, method = \"spearman\")\n",
        "  cat(\"\\nКоэффициент корреляции Спирмена:\\n\")\n",
        "  print(spearman_cor)\n",
        "\n",
        "  # Корреляция Кендалла\n",
        "  kendall_cor <- cor.test(x, y, method = \"kendall\")\n",
        "  cat(\"\\nКоэффициент корреляции Кендалла:\\n\")\n",
        "  print(kendall_cor)\n",
        "}\n"
      ],
      "metadata": {
        "colab": {
          "base_uri": "https://localhost:8080/"
        },
        "id": "EVxCzeY6wEY8",
        "outputId": "8975b017-5162-4dd6-b830-bbd10dd9c4c0"
      },
      "execution_count": null,
      "outputs": [
        {
          "output_type": "stream",
          "name": "stdout",
          "text": [
            "\n",
            "Коэффициент корреляции Пирсона:\n",
            "\n",
            "\tPearson's product-moment correlation\n",
            "\n",
            "data:  x and y\n",
            "t = 75.495, df = 29449, p-value < 2.2e-16\n",
            "alternative hypothesis: true correlation is not equal to 0\n",
            "95 percent confidence interval:\n",
            " 0.3930715 0.4122098\n",
            "sample estimates:\n",
            "      cor \n",
            "0.4026846 \n",
            "\n"
          ]
        },
        {
          "output_type": "stream",
          "name": "stderr",
          "text": [
            "Warning message in cor.test.default(x, y, method = \"spearman\"):\n",
            "“Cannot compute exact p-value with ties”\n"
          ]
        },
        {
          "output_type": "stream",
          "name": "stdout",
          "text": [
            "\n",
            "Коэффициент корреляции Спирмена:\n",
            "\n",
            "\tSpearman's rank correlation rho\n",
            "\n",
            "data:  x and y\n",
            "S = 1.8296e+12, p-value < 2.2e-16\n",
            "alternative hypothesis: true rho is not equal to 0\n",
            "sample estimates:\n",
            "      rho \n",
            "0.5702629 \n",
            "\n",
            "\n",
            "Коэффициент корреляции Кендалла:\n",
            "\n",
            "\tKendall's rank correlation tau\n",
            "\n",
            "data:  x and y\n",
            "z = 106.7, p-value < 2.2e-16\n",
            "alternative hypothesis: true tau is not equal to 0\n",
            "sample estimates:\n",
            "      tau \n",
            "0.4164123 \n",
            "\n"
          ]
        }
      ]
    },
    {
      "cell_type": "markdown",
      "source": [
        "#3. Продемонстрировать использование методов хи-квадрат, точного теста Фишера, теста МакНемара, Кохрана-Мантеля-Хензеля."
      ],
      "metadata": {
        "id": "B_Z9vCgOw5pC"
      }
    },
    {
      "cell_type": "code",
      "source": [
        "set.seed(123)\n",
        "data <- data.frame(\n",
        "  A = sample(c(\"Yes\", \"No\"), 100, replace = TRUE),\n",
        "  B = sample(c(\"Yes\", \"No\"), 100, replace = TRUE),\n",
        "  C = sample(c(\"Yes\", \"No\"), 100, replace = TRUE)\n",
        ")\n",
        "\n",
        "contingency_table <- table(data$A, data$B)\n",
        "cat(\"Данные для теста хи-квадрат:\\n\")\n",
        "print(contingency_table)\n",
        "\n",
        "chi_square_test <- chisq.test(contingency_table)\n",
        "cat(\"Результаты теста хи-квадрат:\\n\")\n",
        "print(chi_square_test)\n",
        "if (chi_square_test$p.value < 0.05) {\n",
        "  cat(\"Отвергаем нулевую гипотезу: существует статистически значимая зависимость между переменными.\\n\")\n",
        "} else {\n",
        "  cat(\"Не отвергаем нулевую гипотезу: нет статистически значимой зависимости между переменными.\\n\")\n",
        "}\n",
        "\n",
        "fisher_test <- fisher.test(contingency_table)\n",
        "cat(\"\\nДанные для точного теста Фишера:\\n\")\n",
        "print(contingency_table)\n",
        "cat(\"Результаты точного теста Фишера:\\n\")\n",
        "print(fisher_test)\n",
        "if (fisher_test$p.value < 0.05) {\n",
        "  cat(\"Отвергаем нулевую гипотезу: существует статистически значимая зависимость между переменными.\\n\")\n",
        "} else {\n",
        "  cat(\"Не отвергаем нулевую гипотезу: нет статистически значимой зависимости между переменными.\\n\")\n",
        "}\n",
        "\n",
        "data_mcnemar <- data.frame(\n",
        "  Before = sample(c(\"Yes\", \"No\"), 50, replace = TRUE),\n",
        "  After = sample(c(\"Yes\", \"No\"), 50, replace = TRUE)\n",
        ")\n",
        "\n",
        "contingency_mcnemar <- table(data_mcnemar$Before, data_mcnemar$After)\n",
        "cat(\"\\nДанные для теста МакНемара:\\n\")\n",
        "print(contingency_mcnemar)\n",
        "\n",
        "mcnemar_test <- mcnemar.test(contingency_mcnemar)\n",
        "cat(\"Результаты теста МакНемара:\\n\")\n",
        "print(mcnemar_test)\n",
        "if (mcnemar_test$p.value < 0.05) {\n",
        "  cat(\"Отвергаем нулевую гипотезу: существует статистически значимая разница между перед и после.\\n\")\n",
        "} else {\n",
        "  cat(\"Не отвергаем нулевую гипотезу: нет статистически значимой разницы между перед и после.\\n\")\n",
        "}\n",
        "\n",
        "data_cm <- data.frame(\n",
        "  Treatment = sample(c(\"Yes\", \"No\"), 100, replace = TRUE),\n",
        "  Outcome1 = sample(c(\"Yes\", \"No\"), 100, replace = TRUE),\n",
        "  Outcome2 = sample(c(\"Yes\", \"No\"), 100, replace = TRUE)\n",
        ")\n",
        "\n",
        "cat(\"\\nДанные для теста Кохрана-Мантеля-Хензеля:\\n\")\n",
        "print(table(data_cm$Treatment, data_cm$Outcome1, data_cm$Outcome2))\n",
        "\n",
        "cm_test <- mantelhaen.test(table(data_cm$Treatment, data_cm$Outcome1, data_cm$Outcome2))\n",
        "cat(\"Результаты теста Кохрана-Мантеля-Хензеля:\\n\")\n",
        "print(cm_test)\n",
        "if (cm_test$p.value < 0.05) {\n",
        "  cat(\"Отвергаем нулевую гипотезу: существует статистически значимая зависимость.\\n\")\n",
        "} else {\n",
        "  cat(\"Не отвергаем нулевую гипотезу: нет статистически значимой зависимости.\\n\")\n",
        "}\n"
      ],
      "metadata": {
        "colab": {
          "base_uri": "https://localhost:8080/"
        },
        "id": "KnkZFfyiw7Dm",
        "outputId": "64d7e33a-5675-41eb-ea14-7e9a6513d9f3"
      },
      "execution_count": null,
      "outputs": [
        {
          "output_type": "stream",
          "name": "stdout",
          "text": [
            "Данные для теста хи-квадрат:\n",
            "     \n",
            "      No Yes\n",
            "  No  23  20\n",
            "  Yes 31  26\n",
            "Результаты теста хи-квадрат:\n",
            "\n",
            "\tPearson's Chi-squared test with Yates' continuity correction\n",
            "\n",
            "data:  contingency_table\n",
            "X-squared = 0, df = 1, p-value = 1\n",
            "\n",
            "Не отвергаем нулевую гипотезу: нет статистически значимой зависимости между переменными.\n",
            "\n",
            "Данные для точного теста Фишера:\n",
            "     \n",
            "      No Yes\n",
            "  No  23  20\n",
            "  Yes 31  26\n",
            "Результаты точного теста Фишера:\n",
            "\n",
            "\tFisher's Exact Test for Count Data\n",
            "\n",
            "data:  contingency_table\n",
            "p-value = 1\n",
            "alternative hypothesis: true odds ratio is not equal to 1\n",
            "95 percent confidence interval:\n",
            " 0.4049074 2.3027387\n",
            "sample estimates:\n",
            "odds ratio \n",
            " 0.9648462 \n",
            "\n",
            "Не отвергаем нулевую гипотезу: нет статистически значимой зависимости между переменными.\n",
            "\n",
            "Данные для теста МакНемара:\n",
            "     \n",
            "      No Yes\n",
            "  No   7  14\n",
            "  Yes 15  14\n",
            "Результаты теста МакНемара:\n",
            "\n",
            "\tMcNemar's Chi-squared test with continuity correction\n",
            "\n",
            "data:  contingency_mcnemar\n",
            "McNemar's chi-squared = 0, df = 1, p-value = 1\n",
            "\n",
            "Не отвергаем нулевую гипотезу: нет статистически значимой разницы между перед и после.\n",
            "\n",
            "Данные для теста Кохрана-Мантеля-Хензеля:\n",
            ", ,  = No\n",
            "\n",
            "     \n",
            "      No Yes\n",
            "  No  16   6\n",
            "  Yes 16  15\n",
            "\n",
            ", ,  = Yes\n",
            "\n",
            "     \n",
            "      No Yes\n",
            "  No  15  13\n",
            "  Yes 10   9\n",
            "\n",
            "Результаты теста Кохрана-Мантеля-Хензеля:\n",
            "\n",
            "\tMantel-Haenszel chi-squared test with continuity correction\n",
            "\n",
            "data:  table(data_cm$Treatment, data_cm$Outcome1, data_cm$Outcome2)\n",
            "Mantel-Haenszel X-squared = 0.89711, df = 1, p-value = 0.3436\n",
            "alternative hypothesis: true common odds ratio is not equal to 1\n",
            "95 percent confidence interval:\n",
            " 0.7158676 3.6516698\n",
            "sample estimates:\n",
            "common odds ratio \n",
            "         1.616822 \n",
            "\n",
            "Не отвергаем нулевую гипотезу: нет статистически значимой зависимости.\n"
          ]
        }
      ]
    },
    {
      "cell_type": "markdown",
      "source": [
        "#4. Проверить наличие мультиколлинеарности в данных с помощью корреляционной матрицы и фактора инфляции дисперсии."
      ],
      "metadata": {
        "id": "iN-XTG0XztHT"
      }
    },
    {
      "cell_type": "code",
      "source": [
        "install.packages(\"corrplot\")"
      ],
      "metadata": {
        "colab": {
          "base_uri": "https://localhost:8080/"
        },
        "id": "ltYjgBwd0z-v",
        "outputId": "0635db40-f67d-47ee-c8ea-f9eb378f2fca"
      },
      "execution_count": null,
      "outputs": [
        {
          "output_type": "stream",
          "name": "stderr",
          "text": [
            "Installing package into ‘/usr/local/lib/R/site-library’\n",
            "(as ‘lib’ is unspecified)\n",
            "\n"
          ]
        }
      ]
    },
    {
      "cell_type": "code",
      "source": [
        "library(corrplot)\n",
        "\n",
        "numeric_columns <- sapply(df, is.numeric)\n",
        "df_numeric <- df[, numeric_columns]\n",
        "\n",
        "cor_matrix <- cor(df_numeric)\n",
        "cat(\"Корреляционная матрица:\\n\")\n",
        "\n",
        "corrplot(cor_matrix,\n",
        "         method = \"circle\",\n",
        "         tl.col = \"black\",\n",
        "         tl.cex = 0.8,\n",
        "         diag = TRUE,\n",
        "         addCoef.col = \"black\",\n",
        "         number.cex = 0.7)\n"
      ],
      "metadata": {
        "colab": {
          "base_uri": "https://localhost:8080/",
          "height": 454
        },
        "id": "LjmwJdbXzu_4",
        "outputId": "dcfb1124-02eb-4a3e-ef84-f1675496f46b"
      },
      "execution_count": null,
      "outputs": [
        {
          "output_type": "stream",
          "name": "stdout",
          "text": [
            "Корреляционная матрица:\n"
          ]
        },
        {
          "output_type": "display_data",
          "data": {
            "text/plain": [
              "Plot with title “”"
            ],
            "image/png": "[encoded data removed]"
          },
          "metadata": {
            "image/png": {
              "width": 420,
              "height": 420
            }
          }
        }
      ]
    },
    {
      "cell_type": "code",
      "source": [
        "calculate_vif <- function(data) {\n",
        "  data <- data[, !colnames(data) %in% \"UNDER_CONSTRUCTION\"]\n",
        "\n",
        "  vif_values <- numeric(ncol(data))\n",
        "  names(vif_values) <- colnames(data)\n",
        "\n",
        "  for (i in 1:ncol(data)) {\n",
        "    formula <- as.formula(paste(\"`\", colnames(data)[i], \"` ~ .\", sep = \"\"))\n",
        "    model <- lm(formula, data = data)\n",
        "    r_squared <- summary(model)$r.squared\n",
        "    vif_values[i] <- 1 / (1 - r_squared)\n",
        "  }\n",
        "\n",
        "  return(vif_values)\n",
        "}\n",
        "\n",
        "numeric_columns <- sapply(df, is.numeric)\n",
        "df_numeric <- df[, numeric_columns]\n",
        "\n",
        "vif_values <- calculate_vif(df_numeric)\n",
        "\n",
        "cat(\"Значения VIF для каждого столбца:\\n\")\n",
        "print(vif_values)\n"
      ],
      "metadata": {
        "id": "aU4Vs8KM2m3M",
        "colab": {
          "base_uri": "https://localhost:8080/"
        },
        "outputId": "46d6aca9-0ef2-436c-de3c-da7bc69805c4"
      },
      "execution_count": null,
      "outputs": [
        {
          "output_type": "stream",
          "name": "stdout",
          "text": [
            "Значения VIF для каждого столбца:\n",
            "                 RERA               BHK_NO.             SQUARE_FT \n",
            "             1.205325              1.027627              1.207540 \n",
            "        READY_TO_MOVE                RESALE             LONGITUDE \n",
            "             1.252920              1.227894              1.045156 \n",
            "             LATITUDE TARGET(PRICE_IN_LACS) \n",
            "             1.032126              1.282390 \n"
          ]
        }
      ]
    },
    {
      "cell_type": "markdown",
      "source": [
        "#5. Исследовать зависимости в данных с помощью дисперсионного анализа."
      ],
      "metadata": {
        "id": "C5YVYm3D50SR"
      }
    },
    {
      "cell_type": "code",
      "source": [
        "df$BHK_NO <- as.factor(df$BHK_NO)\n",
        "\n",
        "categorical_var <- 'BHK_NO.'\n",
        "numerical_var <- 'SQUARE_FT'\n",
        "\n",
        "groups <- split(df$SQUARE_FT, df$BHK_NO)\n",
        "\n",
        "anova_result <- aov(SQUARE_FT ~ BHK_NO, data = df)\n",
        "\n",
        "anova_summary <- summary(anova_result)\n",
        "\n",
        "p_value <- anova_summary[[1]][\"Pr(>F)\"][1, 1]\n",
        "\n",
        "group_means <- sapply(groups, mean)\n",
        "overall_mean <- mean(df$SQUARE_FT)\n",
        "between_group_variance <- sum(table(df$BHK_NO) * (group_means - overall_mean)^2) / (length(groups) - 1)\n",
        "within_group_variance <- sum(sapply(groups, function(group) sum((group - mean(group))^2))) / (length(df$SQUARE_FT) - length(groups))\n",
        "\n",
        "f_statistic <- between_group_variance / within_group_variance\n",
        "\n",
        "cat(\"F-статистика (по расчетам вручную):\", round(f_statistic, 4), \"\\n\")\n",
        "cat(\"p-значение (из ANOVA):\", round(p_value, 4), \"\\n\")\n",
        "\n",
        "if (p_value < 0.05) {\n",
        "  cat(\"Нулевая гипотеза отклоняется: Средние значения отличаются.\\n\")\n",
        "} else {\n",
        "  cat(\"Нулевая гипотеза принимается: Средние значения не отличаются.\\n\")\n",
        "}\n"
      ],
      "metadata": {
        "colab": {
          "base_uri": "https://localhost:8080/"
        },
        "id": "Rcu32n6251nD",
        "outputId": "38362f99-ab47-491a-8e56-680bddcee05b"
      },
      "execution_count": null,
      "outputs": [
        {
          "output_type": "stream",
          "name": "stdout",
          "text": [
            "F-статистика (по расчетам вручную): 0.1917 \n",
            "p-значение (из ANOVA): 0.9997 \n",
            "Нулевая гипотеза принимается: Средние значения не отличаются.\n"
          ]
        }
      ]
    },
    {
      "cell_type": "code",
      "source": [
        "install.packages(\"randomForest\")\n"
      ],
      "metadata": {
        "colab": {
          "base_uri": "https://localhost:8080/"
        },
        "id": "_tLW6AnZn1Sc",
        "outputId": "447d8b43-cf88-4c22-94b7-1c85b34a4721"
      },
      "execution_count": null,
      "outputs": [
        {
          "output_type": "stream",
          "name": "stderr",
          "text": [
            "Installing package into ‘/usr/local/lib/R/site-library’\n",
            "(as ‘lib’ is unspecified)\n",
            "\n"
          ]
        }
      ]
    },
    {
      "cell_type": "code",
      "source": [
        "library(readr)\n",
        "library(randomForest)"
      ],
      "metadata": {
        "colab": {
          "base_uri": "https://localhost:8080/"
        },
        "id": "fobbsj5Wnvti",
        "outputId": "8e16d4b5-bf65-4f2f-b185-2475c9c53690"
      },
      "execution_count": null,
      "outputs": [
        {
          "output_type": "stream",
          "name": "stderr",
          "text": [
            "randomForest 4.7-1.2\n",
            "\n",
            "Type rfNews() to see new features/changes/bug fixes.\n",
            "\n"
          ]
        }
      ]
    },
    {
      "cell_type": "markdown",
      "source": [
        "#6"
      ],
      "metadata": {
        "id": "AeN4Hi52pQ7Y"
      }
    },
    {
      "cell_type": "code",
      "source": [
        "names(df)[names(df) == \"TARGET(PRICE_IN_LACS)\"] <- \"TARGET\"\n",
        "\n",
        "X <- df[, 1:7]\n",
        "y <- df$TARGET\n",
        "\n",
        "set.seed(42)\n",
        "train_indices <- sample(1:nrow(df), size = 0.8 * nrow(df))\n",
        "X_train <- X[train_indices, ]\n",
        "y_train <- y[train_indices]\n",
        "X_test <- X[-train_indices, ]\n",
        "y_test <- y[-train_indices]\n",
        "\n",
        "model_rf <- randomForest(X_train, y_train, ntree = 100, mtry = 3, importance = TRUE)\n",
        "\n",
        "y_pred <- predict(model_rf, X_test)\n",
        "\n",
        "mse <- mean((y_pred - y_test)^2)\n",
        "r2 <- 1 - sum((y_pred - y_test)^2) / sum((y_test - mean(y_test))^2)\n",
        "\n",
        "cat(\"Mean Squared Error (MSE):\", mse, \"\\n\")\n",
        "cat(\"R² (коэффициент детерминации):\", r2, \"\\n\")\n"
      ],
      "metadata": {
        "colab": {
          "base_uri": "https://localhost:8080/"
        },
        "id": "UP8DbKeqnFNm",
        "outputId": "a167fd09-fe39-4134-8163-96f135673b5f"
      },
      "execution_count": null,
      "outputs": [
        {
          "output_type": "stream",
          "name": "stdout",
          "text": [
            "Mean Squared Error (MSE): 35971.68 \n",
            "R² (коэффициент детерминации): 0.8970275 \n"
          ]
        }
      ]
    },
    {
      "cell_type": "code",
      "source": [
        "model_lm <- lm(y_train ~ ., data = X_train)\n",
        "\n",
        "y_pred <- predict(model_lm, newdata = X_test)\n",
        "mse <- mean((y_pred - y_test)^2)\n",
        "r2 <- 1 - sum((y_pred - y_test)^2) / sum((y_test - mean(y_test))^2)\n",
        "\n",
        "cat(\"Mean Squared Error (MSE):\", mse, \"\\n\")\n",
        "cat(\"R² (коэффициент детерминации):\", r2, \"\\n\")"
      ],
      "metadata": {
        "colab": {
          "base_uri": "https://localhost:8080/"
        },
        "id": "hzEPV1HpoU3L",
        "outputId": "165d386e-a5af-4f0b-938a-c1331e03edbf"
      },
      "execution_count": null,
      "outputs": [
        {
          "output_type": "stream",
          "name": "stdout",
          "text": [
            "Mean Squared Error (MSE): 339823.4 \n",
            "R² (коэффициент детерминации): 0.02722211 \n"
          ]
        }
      ]
    }
  ]
}
